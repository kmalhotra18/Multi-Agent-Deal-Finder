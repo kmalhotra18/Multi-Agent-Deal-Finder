{
  "nbformat": 4,
  "nbformat_minor": 0,
  "metadata": {
    "colab": {
      "provenance": [],
      "gpuType": "T4",
      "mount_file_id": "11SUrjEaiQhLWPw3qco2gVLxE5B7yCzfx",
      "authorship_tag": "ABX9TyM81voGFV944xOcP5Oh9OA9",
      "include_colab_link": true
    },
    "kernelspec": {
      "name": "python3",
      "display_name": "Python 3"
    },
    "language_info": {
      "name": "python"
    },
    "accelerator": "GPU"
  },
  "cells": [
    {
      "cell_type": "markdown",
      "metadata": {
        "id": "view-in-github",
        "colab_type": "text"
      },
      "source": [
        "<a href=\"https://colab.research.google.com/github/kmalhotra18/Multi-Agent-Deal-Finder/blob/main/ScanningAgent.ipynb\" target=\"_parent\"><img src=\"https://colab.research.google.com/assets/colab-badge.svg\" alt=\"Open In Colab\"/></a>"
      ]
    },
    {
      "cell_type": "markdown",
      "source": [
        "## ScanningAgent\n",
        "\n",
        "This agent looks for promising deals by subscribing to RSS feeds.\n",
        "\n",
        "Building an AI Powered Deal Selection System."
      ],
      "metadata": {
        "id": "NWwEU-bLteFH"
      }
    },
    {
      "cell_type": "code",
      "source": [
        "!pip install python-dotenv"
      ],
      "metadata": {
        "colab": {
          "base_uri": "https://localhost:8080/"
        },
        "collapsed": true,
        "id": "es-KaAavhPmC",
        "outputId": "afbca2de-2507-43d3-a2bf-1ee2614c6036"
      },
      "execution_count": 2,
      "outputs": [
        {
          "output_type": "stream",
          "name": "stdout",
          "text": [
            "Collecting python-dotenv\n",
            "  Downloading python_dotenv-1.1.0-py3-none-any.whl.metadata (24 kB)\n",
            "Downloading python_dotenv-1.1.0-py3-none-any.whl (20 kB)\n",
            "Installing collected packages: python-dotenv\n",
            "Successfully installed python-dotenv-1.1.0\n"
          ]
        }
      ]
    },
    {
      "cell_type": "code",
      "source": [
        "import sys\n",
        "sys.path.append(\"/content/drive/MyDrive/Llms/llm_engineering/week8/\")"
      ],
      "metadata": {
        "id": "ox4Bt-YrhtV0"
      },
      "execution_count": 3,
      "outputs": []
    },
    {
      "cell_type": "code",
      "source": [
        "!pip install feedparser # package to pull RSS feeds"
      ],
      "metadata": {
        "colab": {
          "base_uri": "https://localhost:8080/"
        },
        "collapsed": true,
        "id": "9r53b7XWhynX",
        "outputId": "c9f6764c-7ad6-47ef-9f2a-a4228158bd7a"
      },
      "execution_count": 5,
      "outputs": [
        {
          "output_type": "stream",
          "name": "stdout",
          "text": [
            "Collecting feedparser\n",
            "  Downloading feedparser-6.0.11-py3-none-any.whl.metadata (2.4 kB)\n",
            "Collecting sgmllib3k (from feedparser)\n",
            "  Downloading sgmllib3k-1.0.0.tar.gz (5.8 kB)\n",
            "  Preparing metadata (setup.py) ... \u001b[?25l\u001b[?25hdone\n",
            "Downloading feedparser-6.0.11-py3-none-any.whl (81 kB)\n",
            "\u001b[2K   \u001b[90m━━━━━━━━━━━━━━━━━━━━━━━━━━━━━━━━━━━━━━━━\u001b[0m \u001b[32m81.3/81.3 kB\u001b[0m \u001b[31m5.4 MB/s\u001b[0m eta \u001b[36m0:00:00\u001b[0m\n",
            "\u001b[?25hBuilding wheels for collected packages: sgmllib3k\n",
            "  Building wheel for sgmllib3k (setup.py) ... \u001b[?25l\u001b[?25hdone\n",
            "  Created wheel for sgmllib3k: filename=sgmllib3k-1.0.0-py3-none-any.whl size=6046 sha256=c26b91b1311a2eff64c25c084e5948ad5692ed19355277a631af871edeee6bfb\n",
            "  Stored in directory: /root/.cache/pip/wheels/3b/25/2a/105d6a15df6914f4d15047691c6c28f9052cc1173e40285d03\n",
            "Successfully built sgmllib3k\n",
            "Installing collected packages: sgmllib3k, feedparser\n",
            "Successfully installed feedparser-6.0.11 sgmllib3k-1.0.0\n"
          ]
        }
      ]
    },
    {
      "cell_type": "code",
      "source": [
        "!pip install --upgrade openai"
      ],
      "metadata": {
        "colab": {
          "base_uri": "https://localhost:8080/"
        },
        "collapsed": true,
        "id": "rdvT_UQhkLDq",
        "outputId": "5645c580-a215-42c6-f875-2b8b96ad11c9"
      },
      "execution_count": 26,
      "outputs": [
        {
          "output_type": "stream",
          "name": "stdout",
          "text": [
            "Requirement already satisfied: openai in /usr/local/lib/python3.11/dist-packages (1.78.1)\n",
            "Collecting openai\n",
            "  Downloading openai-1.82.0-py3-none-any.whl.metadata (25 kB)\n",
            "Requirement already satisfied: anyio<5,>=3.5.0 in /usr/local/lib/python3.11/dist-packages (from openai) (4.9.0)\n",
            "Requirement already satisfied: distro<2,>=1.7.0 in /usr/local/lib/python3.11/dist-packages (from openai) (1.9.0)\n",
            "Requirement already satisfied: httpx<1,>=0.23.0 in /usr/local/lib/python3.11/dist-packages (from openai) (0.28.1)\n",
            "Requirement already satisfied: jiter<1,>=0.4.0 in /usr/local/lib/python3.11/dist-packages (from openai) (0.9.0)\n",
            "Requirement already satisfied: pydantic<3,>=1.9.0 in /usr/local/lib/python3.11/dist-packages (from openai) (2.11.4)\n",
            "Requirement already satisfied: sniffio in /usr/local/lib/python3.11/dist-packages (from openai) (1.3.1)\n",
            "Requirement already satisfied: tqdm>4 in /usr/local/lib/python3.11/dist-packages (from openai) (4.67.1)\n",
            "Requirement already satisfied: typing-extensions<5,>=4.11 in /usr/local/lib/python3.11/dist-packages (from openai) (4.13.2)\n",
            "Requirement already satisfied: idna>=2.8 in /usr/local/lib/python3.11/dist-packages (from anyio<5,>=3.5.0->openai) (3.10)\n",
            "Requirement already satisfied: certifi in /usr/local/lib/python3.11/dist-packages (from httpx<1,>=0.23.0->openai) (2025.4.26)\n",
            "Requirement already satisfied: httpcore==1.* in /usr/local/lib/python3.11/dist-packages (from httpx<1,>=0.23.0->openai) (1.0.9)\n",
            "Requirement already satisfied: h11>=0.16 in /usr/local/lib/python3.11/dist-packages (from httpcore==1.*->httpx<1,>=0.23.0->openai) (0.16.0)\n",
            "Requirement already satisfied: annotated-types>=0.6.0 in /usr/local/lib/python3.11/dist-packages (from pydantic<3,>=1.9.0->openai) (0.7.0)\n",
            "Requirement already satisfied: pydantic-core==2.33.2 in /usr/local/lib/python3.11/dist-packages (from pydantic<3,>=1.9.0->openai) (2.33.2)\n",
            "Requirement already satisfied: typing-inspection>=0.4.0 in /usr/local/lib/python3.11/dist-packages (from pydantic<3,>=1.9.0->openai) (0.4.0)\n",
            "Downloading openai-1.82.0-py3-none-any.whl (720 kB)\n",
            "\u001b[2K   \u001b[90m━━━━━━━━━━━━━━━━━━━━━━━━━━━━━━━━━━━━━━━━\u001b[0m \u001b[32m720.4/720.4 kB\u001b[0m \u001b[31m23.3 MB/s\u001b[0m eta \u001b[36m0:00:00\u001b[0m\n",
            "\u001b[?25hInstalling collected packages: openai\n",
            "  Attempting uninstall: openai\n",
            "    Found existing installation: openai 1.78.1\n",
            "    Uninstalling openai-1.78.1:\n",
            "      Successfully uninstalled openai-1.78.1\n",
            "Successfully installed openai-1.82.0\n"
          ]
        }
      ]
    },
    {
      "cell_type": "code",
      "execution_count": 29,
      "metadata": {
        "id": "oXJA5HSDtaYV"
      },
      "outputs": [],
      "source": [
        "# imports\n",
        "\n",
        "import os\n",
        "import json\n",
        "from dotenv import load_dotenv\n",
        "# Import AuthenticationError from openai.lib.flat_namespace\n",
        "from openai import OpenAI, AuthenticationError # Import AuthenticationError directly\n",
        "from agents.deals import ScrapedDeal, DealSelection"
      ]
    },
    {
      "cell_type": "code",
      "source": [
        "# Initialize and constants\n",
        "\n",
        "import os\n",
        "from openai import OpenAI\n",
        "from google.colab import userdata\n",
        "\n",
        "# Try to retrieve from Google Colab secrets first\n",
        "openai_api_key = userdata.get('OPENAI_API_KEY')\n",
        "\n",
        "if not openai_api_key:\n",
        "    raise ValueError(\"❌ OPENAI_API_KEY not found in Colab secrets. Please add it via `Runtime > Secrets`.\")\n",
        "\n",
        "# Set for OpenAI client\n",
        "os.environ['OPENAI_API_KEY'] = openai_api_key\n",
        "\n",
        "# Initialize client\n",
        "openai = OpenAI()\n",
        "print(\"✅ OpenAI client initialized.\")\n",
        "\n",
        "openai = OpenAI()\n",
        "MODEL = 'gpt-4o-mini'"
      ],
      "metadata": {
        "colab": {
          "base_uri": "https://localhost:8080/"
        },
        "id": "sKg4FQXrtmRu",
        "outputId": "08c4ccf9-47ef-4a68-f310-201b815df7ce"
      },
      "execution_count": 41,
      "outputs": [
        {
          "output_type": "stream",
          "name": "stdout",
          "text": [
            "✅ OpenAI client initialized.\n"
          ]
        }
      ]
    },
    {
      "cell_type": "markdown",
      "source": [
        "ScrapeDeal - part of deals.py"
      ],
      "metadata": {
        "id": "3PW9zNBKiRYE"
      }
    },
    {
      "cell_type": "code",
      "source": [
        "# Starts by defining series of deals URLs for categories you're running\n",
        "\n",
        "deals = ScrapedDeal.fetch(show_progress=True)"
      ],
      "metadata": {
        "colab": {
          "base_uri": "https://localhost:8080/"
        },
        "id": "DghHDm_xtmO5",
        "outputId": "6cd4e2c5-a996-49d7-b2f4-7ab9738d1a30"
      },
      "execution_count": 8,
      "outputs": [
        {
          "output_type": "stream",
          "name": "stderr",
          "text": [
            "100%|██████████| 5/5 [05:02<00:00, 60.58s/it]\n"
          ]
        }
      ]
    },
    {
      "cell_type": "code",
      "source": [
        "len(deals)"
      ],
      "metadata": {
        "colab": {
          "base_uri": "https://localhost:8080/"
        },
        "id": "tbu6tHgStmJf",
        "outputId": "03d7dad6-60a7-4188-8220-8a0722c4caf8"
      },
      "execution_count": 32,
      "outputs": [
        {
          "output_type": "execute_result",
          "data": {
            "text/plain": [
              "50"
            ]
          },
          "metadata": {},
          "execution_count": 32
        }
      ]
    },
    {
      "cell_type": "code",
      "source": [
        "deals[44].describe()"
      ],
      "metadata": {
        "colab": {
          "base_uri": "https://localhost:8080/",
          "height": 70
        },
        "id": "AuoY9w3gtpx0",
        "outputId": "b92b2b59-9ce5-479e-cd5f-dd4fabfb0916"
      },
      "execution_count": 33,
      "outputs": [
        {
          "output_type": "execute_result",
          "data": {
            "text/plain": [
              "'Title: Blackstone ProSeries 2-Burner 22\" Propane Omnivore Griddle for $297 + free shipping\\nDetails: Take $50 off the list price on this Blackstone griddle at Walmart during its 2025 Memorial Day sale. Buy Now at Walmart\\nFeatures: Dual side shelves 361 sq. in. cooking surface with two heat zones 21,000 BTUs Model: 2414\\nURL: https://www.dealnews.com/products/Blackstone/Blackstone-Pro-Series-2-Burner-22-Propane-Omnivore-Griddle/490028.html?iref=rss-c196'"
            ],
            "application/vnd.google.colaboratory.intrinsic+json": {
              "type": "string"
            }
          },
          "metadata": {},
          "execution_count": 33
        }
      ]
    },
    {
      "cell_type": "code",
      "source": [
        "system_prompt = \"\"\"You identify and summarize the 5 most detailed deals from a list, by selecting deals that have the most detailed, high quality description and the most clear price.\n",
        "Respond strictly in JSON with no explanation, using this format. You should provide the price as a number derived from the description. If the price of a deal isn't clear, do not include that deal in your response.\n",
        "Most important is that you respond with the 5 deals that have the most detailed product description with price. It's not important to mention the terms of the deal; most important is a thorough description of the product.\n",
        "Be careful with products that are described as \"$XXX off\" or \"reduced by $XXX\" - this isn't the actual price of the product. Only respond with products when you are highly confident about the price.\n",
        "\n",
        "{\"deals\": [\n",
        "    {\n",
        "        \"product_description\": \"Your clearly expressed summary of the product in 4-5 sentences. Details of the item are much more important than why it's a good deal. Avoid mentioning discounts and coupons; focus on the item itself. There should be a paragpraph of text for each item you choose.\",\n",
        "        \"price\": 99.99,\n",
        "        \"url\": \"the url as provided\"\n",
        "    },\n",
        "    ...\n",
        "]}\"\"\""
      ],
      "metadata": {
        "id": "aIWvfI71tpvN"
      },
      "execution_count": 34,
      "outputs": []
    },
    {
      "cell_type": "code",
      "source": [
        "user_prompt = \"\"\"Respond with the most promising 5 deals from this list, selecting those which have the most detailed, high quality product description and a clear price.\n",
        "Respond strictly in JSON, and only JSON. You should rephrase the description to be a summary of the product itself, not the terms of the deal.\n",
        "Remember to respond with a paragraph of text in the product_description field for each of the 5 items that you select.\n",
        "Be careful with products that are described as \"$XXX off\" or \"reduced by $XXX\" - this isn't the actual price of the product. Only respond with products when you are highly confident about the price.\n",
        "\n",
        "Deals:\n",
        "\n",
        "\"\"\"\n",
        "user_prompt += '\\n\\n'.join([deal.describe() for deal in deals])"
      ],
      "metadata": {
        "id": "-BqZAG6atsfU"
      },
      "execution_count": 35,
      "outputs": []
    },
    {
      "cell_type": "code",
      "source": [
        "print(user_prompt[:2000])"
      ],
      "metadata": {
        "colab": {
          "base_uri": "https://localhost:8080/"
        },
        "id": "ATGhIpuHts6q",
        "outputId": "8101466c-84c8-4e29-fa2f-1e1695be8c64"
      },
      "execution_count": 36,
      "outputs": [
        {
          "output_type": "stream",
          "name": "stdout",
          "text": [
            "Respond with the most promising 5 deals from this list, selecting those which have the most detailed, high quality product description and a clear price.\n",
            "Respond strictly in JSON, and only JSON. You should rephrase the description to be a summary of the product itself, not the terms of the deal.\n",
            "Remember to respond with a paragraph of text in the product_description field for each of the 5 items that you select.\n",
            "Be careful with products that are described as \"$XXX off\" or \"reduced by $XXX\" - this isn't the actual price of the product. Only respond with products when you are highly confident about the price. \n",
            "\n",
            "Deals:\n",
            "\n",
            "Title: Onn Google TV HD Streaming Stick for $13 + free shipping w/ $35\n",
            "Details: That's $2 off and the best price we've seen. Shipping is free with orders of $35 or more. Alternatively, you can choose pickup where available. Buy Now at Walmart\n",
            "Features: \n",
            "URL: https://www.dealnews.com/products/Onn/Onn-Google-TV-HD-Streaming-Stick/490029.html?iref=rss-c142\n",
            "\n",
            "Title: INIU MagPro Slim 5,000mAh 15W Qi2 Wireless Power Bank for $35 + free shipping\n",
            "Details: It's a savings of $15. Note that you must be signed in to your Best Buy account to get free shipping; otherwise it's $5.49. (It's free to join.) Buy Now at Best Buy\n",
            "Features: Rapid PD 20W Wired Charging Latest Qi2-Certified 15W Wireless Charging Enjoy an industry-leading 3-year warranty and lifetime tech support from INIU\n",
            "URL: https://www.dealnews.com/INIU-Mag-Pro-Slim-5-000-m-Ah-15-W-Qi2-Wireless-Power-Bank-for-35-free-shipping/21739977.html?iref=rss-c142\n",
            "\n",
            "Title: INIU MagPro 10,000mAh Qi2 15W Magnetic Wireless Power Bank for $45 + free shipping\n",
            "Details: That's a savings of $8. Buy Now at Best Buy\n",
            "Features: 3-Year INIU Warranty. 15W wireless charging PD 30W Wired Charging 10,000mAh Model: P72-P1\n",
            "URL: https://www.dealnews.com/products/INIU/INIU-Mag-Pro-10-000-m-Ah-Qi2-15-W-Magnetic-Wireless-Power-Bank/489419.html?iref=rss-c142\n",
            "\n",
            "Title: Umik D3 Smart Lock for $79 + free shipping\n",
            "Details: That's a savings of $30. B\n"
          ]
        }
      ]
    },
    {
      "cell_type": "code",
      "source": [
        "def get_recommendations():\n",
        "    completion = openai.beta.chat.completions.parse(\n",
        "        model=\"gpt-4o-mini\",\n",
        "        messages=[\n",
        "            {\"role\": \"system\", \"content\": system_prompt},\n",
        "            {\"role\": \"user\", \"content\": user_prompt}\n",
        "      ],\n",
        "        response_format=DealSelection\n",
        "    )\n",
        "    result = completion.choices[0].message.parsed\n",
        "    return result"
      ],
      "metadata": {
        "id": "yaWQ5E1ZtuR8"
      },
      "execution_count": 42,
      "outputs": []
    },
    {
      "cell_type": "code",
      "source": [
        "result = get_recommendations()"
      ],
      "metadata": {
        "id": "bCXzXAgmtvgx"
      },
      "execution_count": 43,
      "outputs": []
    },
    {
      "cell_type": "code",
      "source": [
        "len(result.deals)"
      ],
      "metadata": {
        "colab": {
          "base_uri": "https://localhost:8080/"
        },
        "id": "Mz3oYc1ctwn4",
        "outputId": "c2e42116-6ab9-451b-dc93-527af409d495"
      },
      "execution_count": 44,
      "outputs": [
        {
          "output_type": "execute_result",
          "data": {
            "text/plain": [
              "5"
            ]
          },
          "metadata": {},
          "execution_count": 44
        }
      ]
    },
    {
      "cell_type": "code",
      "source": [
        "result.deals[1]"
      ],
      "metadata": {
        "colab": {
          "base_uri": "https://localhost:8080/"
        },
        "id": "u8e02xI4txra",
        "outputId": "4509e078-6208-41e6-c79f-f5cdcb3792c8"
      },
      "execution_count": 45,
      "outputs": [
        {
          "output_type": "execute_result",
          "data": {
            "text/plain": [
              "Deal(product_description='The INIU MagPro Slim 5,000mAh 15W Qi2 Wireless Power Bank is designed for users who need a portable charging solution on the go. This power bank features rapid PD 20W wired charging and the latest Qi2-certified 15W wireless charging technology. Additionally, it is lightweight and compact, making it easy to carry. With an industry-leading 3-year warranty and lifetime tech support, it ensures peace of mind for users.', price=35.0, url='https://www.dealnews.com/INIU-Mag-Pro-Slim-5-000-m-Ah-15-W-Qi2-Wireless-Power-Bank-for-35-free-shipping/21739977.html?iref=rss-c142')"
            ]
          },
          "metadata": {},
          "execution_count": 45
        }
      ]
    },
    {
      "cell_type": "code",
      "source": [
        "from agents.scanner_agent import ScannerAgent"
      ],
      "metadata": {
        "id": "T8lCE756txoz"
      },
      "execution_count": 46,
      "outputs": []
    },
    {
      "cell_type": "code",
      "source": [
        "agent = ScannerAgent()\n",
        "result = agent.scan()"
      ],
      "metadata": {
        "id": "kuEwOj5GtxmM"
      },
      "execution_count": 47,
      "outputs": []
    },
    {
      "cell_type": "code",
      "source": [
        "result"
      ],
      "metadata": {
        "colab": {
          "base_uri": "https://localhost:8080/"
        },
        "id": "Q3KaX45ht0Pe",
        "outputId": "d1f4edd4-0cf1-4991-da85-520c2db1b793"
      },
      "execution_count": 50,
      "outputs": [
        {
          "output_type": "execute_result",
          "data": {
            "text/plain": [
              "DealSelection(deals=[Deal(product_description='The INIU MagPro Slim Power Bank offers a compact design with a 5,000mAh capacity, supporting fast 15W Qi2 wireless charging. It is equipped with a Rapid PD 20W wired charging feature, ensuring your devices are charged quickly and efficiently. This power bank also comes with a 3-year warranty and lifetime tech support, making it a reliable choice for on-the-go charging.', price=35.0, url='https://www.dealnews.com/INIU-Mag-Pro-Slim-5-000-m-Ah-15-W-Qi2-Wireless-Power-Bank-for-35-free-shipping/21739977.html?iref=rss-c142'), Deal(product_description='The Umik D3 Smart Lock features multiple access methods, including fingerprint recognition, keys, and app control for your convenience. It is designed to withstand the elements with an IP65 waterproof rating, ensuring it remains functional in various weather conditions. This smart lock is easy to install, providing enhanced security for your home without complex setup procedures.', price=79.0, url='https://www.dealnews.com/Umik-D3-Smart-Lock-for-79-free-shipping/21739971.html?iref=rss-c142'), Deal(product_description='The Samsung T7 Shield is an external SSD with a generous 2TB capacity designed for durability. It features a robust build that resists dust and water with an IP65 rating, while also offering drop resistance from heights of up to 9.8 feet. With USB 3.2 Gen 2 support, this SSD allows for rapid data transfer speeds, making it an ideal choice for users needing reliable external storage.', price=160.0, url='https://www.dealnews.com/products/Samsung/Samsung-T7-Shield-2-TB-External-USB-3-2-Gen-2-SSD/367217.html?iref=rss-c39'), Deal(product_description='The Eco-Worthy 20.48kWh 48V 100AH Lithium Battery pack includes four powerful battery units suitable for server racks. This LiFePO4 technology provides extended cycle life with up to 6,000 deep discharge cycles and adequate capacity for heavy electrical demands. Its compatibility with standard 3U cabinets makes it an excellent choice for energy storage solutions in home and professional setups.', price=3200.0, url='https://www.dealnews.com/Eco-Worthy-20-48-k-Wh-48-V-100-AH-Server-Rack-Li-Fe-PO4-Lithium-Battery-4-Pack-for-3-200-free-shipping/21739857.html?iref=rss-c142'), Deal(product_description='The Dell Inspiron 14 is a laptop featuring the Intel Core 7 150U processor, capable of handling a variety of computing tasks comfortably. It boasts a 14-inch 1920x1200 IPS display for vibrant visuals, along with 16GB of RAM and a 1TB SSD for efficient multitasking and ample storage space. Additionally, it comes pre-installed with Windows 11 Home, ensuring you have the latest operating system right out of the box.', price=600.0, url='https://www.dealnews.com/Dell-Inspiron-14-Core-7-150-U-14-Laptop-for-600-free-shipping/21739974.html?iref=rss-c39')])"
            ]
          },
          "metadata": {},
          "execution_count": 50
        }
      ]
    },
    {
      "cell_type": "code",
      "source": [],
      "metadata": {
        "id": "pl2ZcknknSto"
      },
      "execution_count": null,
      "outputs": []
    }
  ]
}